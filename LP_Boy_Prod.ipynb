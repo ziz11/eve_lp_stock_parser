{
  "nbformat": 4,
  "nbformat_minor": 0,
  "metadata": {
    "colab": {
      "name": "LP Boy Prod.ipynb",
      "version": "0.3.2",
      "provenance": [],
      "collapsed_sections": []
    },
    "kernelspec": {
      "display_name": "Python 2",
      "language": "python",
      "name": "python2"
    }
  },
  "cells": [
    {
      "cell_type": "code",
      "metadata": {
        "id": "ihletKvqz-ZR",
        "colab_type": "code",
        "colab": {}
      },
      "source": [
        "import requests\n",
        "from bs4 import BeautifulSoup\n",
        "from urllib2 import urlopen\n",
        "import pandas as pd\n",
        "\n",
        "id_list = (1000002,\n",
        " 1000004,\n",
        " 1000005,\n",
        " 1000020,\n",
        " 1000035,\n",
        " 1000046,\n",
        " 1000047,\n",
        " 1000049,\n",
        " 1000063,\n",
        " 1000072,\n",
        " 1000080,\n",
        " 1000094,\n",
        " 1000097,\n",
        " 1000120,\n",
        " 1000123,\n",
        " 1000124,\n",
        " 1000125,\n",
        " 1000126,\n",
        " 1000127,\n",
        " 1000128,\n",
        " 1000129,\n",
        " 1000130,\n",
        " 1000134,\n",
        " 1000135,\n",
        " 1000144,\n",
        " 1000151,\n",
        " 1000154,\n",
        " 1000160,\n",
        " 1000161,\n",
        " 1000162,\n",
        " 1000179,\n",
        " 1000180,\n",
        " 1000181,\n",
        " 1000182)"
      ],
      "execution_count": 0,
      "outputs": []
    },
    {
      "cell_type": "code",
      "metadata": {
        "id": "yb1N1R71z-ZU",
        "colab_type": "code",
        "colab": {}
      },
      "source": [
        "df = pd.DataFrame()\n",
        "\n",
        "for id in id_list:\n",
        "  user_id = id\n",
        "  url = 'http://lpstock.ru/corp.php?corpid=%d' % (user_id) # url для второй страницы\n",
        "  html_doc = urlopen(url).read()\n",
        "  soup = BeautifulSoup(html_doc)\n",
        "  for x in soup.find_all(\"tr\"):\n",
        "    title = soup.title.text\n",
        "    tmp = x\n",
        "    try:\n",
        "      if x.text[2:14] != 'Amarr Empire':\n",
        "        tmp_dict = {\n",
        "        \"Fraction\":title[:-10],\n",
        "        \"Name\":tmp.contents[1].text.split('\\n')[0].encode('utf-8'),\n",
        "        \"ItemCount\":tmp.contents[3].text,\n",
        "        \"LP\":tmp.contents[5].attrs.get('abbr'),\n",
        "        \"ISK\":tmp.contents[7].attrs.get('abbr'),\n",
        "        \"Spendings\":tmp.contents[9].attrs.get('abbr'),\n",
        "        \"SellPrice\":tmp.contents[11].attrs.get('abbr'),\n",
        "        \"Margin_LP\":tmp.contents[13].contents[0]}\n",
        "        df = df.append(tmp_dict,ignore_index=True)\n",
        "      else:\n",
        "        pass\n",
        "    except:\n",
        "#       print x.text\n",
        "      pass\n",
        "\n",
        "df = df[df.SellPrice.isnull() != True]"
      ],
      "execution_count": 0,
      "outputs": []
    },
    {
      "cell_type": "code",
      "metadata": {
        "id": "Pb2T1Ihvz-ZW",
        "colab_type": "code",
        "colab": {}
      },
      "source": [
        "import re\n",
        "for col in ('ISK','ItemCount','LP','Margin_LP','SellPrice','Spendings'):\n",
        "    df[col] = df[col].astype('str').apply(lambda x:float(re.sub(u'[^0-9-.]', '', x.encode('utf-8'))))"
      ],
      "execution_count": 0,
      "outputs": []
    },
    {
      "cell_type": "code",
      "metadata": {
        "id": "nUY_xIxcz-ZZ",
        "colab_type": "code",
        "colab": {}
      },
      "source": [
        "# print(df.info())"
      ],
      "execution_count": 0,
      "outputs": []
    },
    {
      "cell_type": "code",
      "metadata": {
        "id": "NzJKdYgyz-Zc",
        "colab_type": "code",
        "colab": {}
      },
      "source": [
        "# for obj in df.Fraction.unique():\n",
        "#     print obj.replace(' [LPStock]','')"
      ],
      "execution_count": 0,
      "outputs": []
    },
    {
      "cell_type": "code",
      "metadata": {
        "id": "i1_4103TGRCS",
        "colab_type": "code",
        "colab": {}
      },
      "source": [
        "# df[df.Name == 'Caldari Navy Ballistic Control System Blueprint']"
      ],
      "execution_count": 0,
      "outputs": []
    },
    {
      "cell_type": "code",
      "metadata": {
        "id": "lfIdHf1Nz-Zd",
        "colab_type": "code",
        "colab": {}
      },
      "source": [
        "import sys\n",
        "if sys.version_info[0] < 3: \n",
        "    from StringIO import StringIO\n",
        "else:\n",
        "    from io import StringIO\n",
        "\n",
        "import pandas as pd\n",
        "\n",
        "TESTDATA=StringIO(\"\"\"type\tratio\tFraction\n",
        "FW\t0\tAmarr Empire: 24th Imperial Crusade\n",
        "Empire\t0.8\tAmarr Empire: Amarr Constructions\n",
        "Empire\t0.8\tAmarr Empire: Imperial Shipment\n",
        "Empire\t0.8\tAmarr Empire: Ministry of War\n",
        "Empire\t0.8\tAmmatar Mandate: Ammatar Consulate\n",
        "Empire\t0.8\tAmmatar Mandate: Ammatar Fleet\n",
        "Empire\t0.8\tAmmatar Mandate: Nefantar Miner Association\n",
        "Pirate\t0\tAngel Cartel: Archangels\n",
        "Pirate\t0\tBlood Raider Covenant: Blood Raiders\n",
        "Empire\t0.8\tCaldari State: Caldari Navy\n",
        "Empire\t0.8\tCaldari State: CBD Corporation\n",
        "Empire\t0.8\tCaldari State: Hyasyoda Corporation\n",
        "Empire\t0.8\tCaldari State: Lai Dai Corporation\n",
        "FW\t0\tCaldari State: State Protectorate\n",
        "Empire\t0.8\tCaldari State: Ytiri\n",
        "Concord\t1\tCONCORD Assembly: CONCORD\n",
        "FW\t0\tGallente Federation: Federal Defense Union\n",
        "Empire\t0.8\tGallente Federation: Federation Navy\n",
        "Empire\t0.8\tGallente Federation: Material Acquisition\n",
        "Empire\t0.8\tGallente Federation: TransStellar Shipping\n",
        "Pirate\t0\tGuristas Pirates: Guristas\n",
        "Empire\t0.8\tKhanid Kingdom: Khanid Innovation\n",
        "Empire\t0.8\tMinmatar Republic: Brutor Tribe\n",
        "Empire\t0.8\tMinmatar Republic: Krusual Tribe\n",
        "Empire\t0.8\tMinmatar Republic: Sebiestor Tribe\n",
        "FW\t0\tMinmatar Republic: Tribal Liberation Force\n",
        "Pirate\t0\tMordu's Legion Command: Mordu's Legion\n",
        "Outsiders\t0.4\tORE: Outer Ring Excavations\n",
        "Pirate\t0\tSansha's Nation: True Creations\n",
        "Pirate\t0\tSansha's Nation: True Power\n",
        "Pirate\t0\tSerpentis: Serpentis Corporation\n",
        "Outsiders\t0.4\tServant Sisters of EVE: Sisters of EVE\n",
        "Outsiders\t0.4\tThe Syndicate: Intaki Bank\n",
        "Outsiders\t0.4\tThukker Tribe: Thukker Mix\"\"\")\n",
        "\n",
        "fractions = pd.read_csv(TESTDATA, sep=\"\\t\")"
      ],
      "execution_count": 0,
      "outputs": []
    },
    {
      "cell_type": "code",
      "metadata": {
        "id": "KPUKIymhz-Zf",
        "colab_type": "code",
        "colab": {}
      },
      "source": [
        "df_2 = pd.merge(df, fractions, how='left', on=['Fraction'])"
      ],
      "execution_count": 0,
      "outputs": []
    },
    {
      "cell_type": "code",
      "metadata": {
        "id": "6I_Wf4Fyz-Zj",
        "colab_type": "code",
        "colab": {}
      },
      "source": [
        "df_2['Margin_Concord_LP'] = df_2.Margin_LP * df_2.ratio"
      ],
      "execution_count": 0,
      "outputs": []
    },
    {
      "cell_type": "code",
      "metadata": {
        "id": "ekfFrF5fz-Zk",
        "colab_type": "code",
        "colab": {}
      },
      "source": [
        "df_2 = df_2.sort_values(['Fraction','Name']).drop_duplicates(subset=['Name']).reset_index(drop=True).sort_values('Margin_Concord_LP',ascending=False)"
      ],
      "execution_count": 0,
      "outputs": []
    },
    {
      "cell_type": "code",
      "metadata": {
        "id": "pnLT92iY0pOe",
        "colab_type": "code",
        "colab": {}
      },
      "source": [
        "# df_2[df_2.type != 'Outsiders'].head(30).astype('str')"
      ],
      "execution_count": 0,
      "outputs": []
    },
    {
      "cell_type": "code",
      "metadata": {
        "id": "aFcRfVMnBzvm",
        "colab_type": "code",
        "outputId": "4f5f7dac-3650-47f3-b40f-d2467d11fc68",
        "colab": {
          "base_uri": "https://localhost:8080/",
          "height": 80
        }
      },
      "source": [
        "df_2[df_2.Name == \"Inherent Implants 'Highwall' Mining MX-1005\"]"
      ],
      "execution_count": 14,
      "outputs": [
        {
          "output_type": "execute_result",
          "data": {
            "text/html": [
              "<div>\n",
              "<style scoped>\n",
              "    .dataframe tbody tr th:only-of-type {\n",
              "        vertical-align: middle;\n",
              "    }\n",
              "\n",
              "    .dataframe tbody tr th {\n",
              "        vertical-align: top;\n",
              "    }\n",
              "\n",
              "    .dataframe thead th {\n",
              "        text-align: right;\n",
              "    }\n",
              "</style>\n",
              "<table border=\"1\" class=\"dataframe\">\n",
              "  <thead>\n",
              "    <tr style=\"text-align: right;\">\n",
              "      <th></th>\n",
              "      <th>Fraction</th>\n",
              "      <th>ISK</th>\n",
              "      <th>ItemCount</th>\n",
              "      <th>LP</th>\n",
              "      <th>Margin_LP</th>\n",
              "      <th>Name</th>\n",
              "      <th>SellPrice</th>\n",
              "      <th>Spendings</th>\n",
              "      <th>type</th>\n",
              "      <th>ratio</th>\n",
              "      <th>Margin_Concord_LP</th>\n",
              "    </tr>\n",
              "  </thead>\n",
              "  <tbody>\n",
              "    <tr>\n",
              "      <th>388</th>\n",
              "      <td>Amarr Empire: Amarr Constructions</td>\n",
              "      <td>31750000.0</td>\n",
              "      <td>1.0</td>\n",
              "      <td>79375.0</td>\n",
              "      <td>993.39</td>\n",
              "      <td>Inherent Implants 'Highwall' Mining MX-1005</td>\n",
              "      <td>1.106000e+08</td>\n",
              "      <td>31750000.0</td>\n",
              "      <td>Empire</td>\n",
              "      <td>0.8</td>\n",
              "      <td>794.712</td>\n",
              "    </tr>\n",
              "  </tbody>\n",
              "</table>\n",
              "</div>"
            ],
            "text/plain": [
              "                              Fraction         ISK  ...  ratio  Margin_Concord_LP\n",
              "388  Amarr Empire: Amarr Constructions  31750000.0  ...    0.8            794.712\n",
              "\n",
              "[1 rows x 11 columns]"
            ]
          },
          "metadata": {
            "tags": []
          },
          "execution_count": 14
        }
      ]
    }
  ]
}